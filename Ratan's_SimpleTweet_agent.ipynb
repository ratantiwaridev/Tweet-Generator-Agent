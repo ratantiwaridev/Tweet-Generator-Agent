{
  "nbformat": 4,
  "nbformat_minor": 0,
  "metadata": {
    "colab": {
      "provenance": [],
      "include_colab_link": true
    },
    "kernelspec": {
      "name": "python3",
      "display_name": "Python 3"
    },
    "language_info": {
      "name": "python"
    }
  },
  "cells": [
    {
      "cell_type": "markdown",
      "metadata": {
        "id": "view-in-github",
        "colab_type": "text"
      },
      "source": [
        "<a href=\"https://colab.research.google.com/github/ratantiwaridev/Tweet-Generator-Agent/blob/main/Ratan's_SimpleTweet_agent.ipynb\" target=\"_parent\"><img src=\"https://colab.research.google.com/assets/colab-badge.svg\" alt=\"Open In Colab\"/></a>"
      ]
    },
    {
      "cell_type": "markdown",
      "source": [
        "Step 1: Install required packages"
      ],
      "metadata": {
        "id": "pmqDc2m9G51t"
      }
    },
    {
      "cell_type": "code",
      "source": [
        "!pip install google-generativeai --quiet\n",
        "!pip install ipywidgets --quiet"
      ],
      "metadata": {
        "id": "Bwtew5A9H4Nd",
        "outputId": "7bcf5660-0962-40eb-9dbc-cc5fc498ed2f",
        "colab": {
          "base_uri": "https://localhost:8080/"
        }
      },
      "execution_count": null,
      "outputs": [
        {
          "output_type": "stream",
          "name": "stdout",
          "text": [
            "\u001b[?25l   \u001b[90m━━━━━━━━━━━━━━━━━━━━━━━━━━━━━━━━━━━━━━━━\u001b[0m \u001b[32m0.0/1.6 MB\u001b[0m \u001b[31m?\u001b[0m eta \u001b[36m-:--:--\u001b[0m\r\u001b[2K   \u001b[91m━━━\u001b[0m\u001b[91m╸\u001b[0m\u001b[90m━━━━━━━━━━━━━━━━━━━━━━━━━━━━━━━━━━━━\u001b[0m \u001b[32m0.2/1.6 MB\u001b[0m \u001b[31m4.4 MB/s\u001b[0m eta \u001b[36m0:00:01\u001b[0m\r\u001b[2K   \u001b[91m━━━━━━━━━━━━━━━━━━━━━━━━━━━━━━━━━━━━━━\u001b[0m\u001b[91m╸\u001b[0m\u001b[90m━\u001b[0m \u001b[32m1.5/1.6 MB\u001b[0m \u001b[31m21.9 MB/s\u001b[0m eta \u001b[36m0:00:01\u001b[0m\r\u001b[2K   \u001b[90m━━━━━━━━━━━━━━━━━━━━━━━━━━━━━━━━━━━━━━━━\u001b[0m \u001b[32m1.6/1.6 MB\u001b[0m \u001b[31m17.8 MB/s\u001b[0m eta \u001b[36m0:00:00\u001b[0m\n",
            "\u001b[?25h"
          ]
        }
      ]
    },
    {
      "cell_type": "markdown",
      "source": [
        "Step 2: Import libraries"
      ],
      "metadata": {
        "id": "xF6xdxMRG_nv"
      }
    },
    {
      "cell_type": "code",
      "source": [
        "import google.generativeai as genai\n",
        "import ipywidgets as widgets\n",
        "from IPython.display import display,Markdown"
      ],
      "metadata": {
        "id": "331A5rhPIqAV"
      },
      "execution_count": null,
      "outputs": []
    },
    {
      "cell_type": "markdown",
      "source": [
        "Step 3: Set up Gemini API"
      ],
      "metadata": {
        "id": "O_ASCfqbHCCx"
      }
    },
    {
      "cell_type": "code",
      "source": [
        "#generate a api key from google ai studio\n",
        "API_KEY=\"your_api_key\"\n",
        "genai.configure(api_key=API_KEY)\n",
        "model=genai.GenerativeModel(\"gemini-2.5-flash\")"
      ],
      "metadata": {
        "id": "EFX6CC3XJiHK"
      },
      "execution_count": null,
      "outputs": []
    },
    {
      "cell_type": "markdown",
      "source": [
        "Step 4: Define the input form"
      ],
      "metadata": {
        "id": "6U4nkTanHF0M"
      }
    },
    {
      "cell_type": "code",
      "source": [
        "topic_input=widgets.Text(\n",
        "    description=\"Topic\",\n",
        "    layout=widgets.Layout(width='400px')\n",
        ")\n",
        "Descr_input=widgets.Dropdown(\n",
        "    description=\"Tone\",\n",
        "    options=['Professional','Casual','Motivational','Witty','Informative'],\n",
        "    layout=widgets.Layout(width='400px')\n",
        ")\n",
        "audience_input=widgets.Text(\n",
        "    description=\"Audience\",\n",
        "    layout=widgets.Layout(width='400px')\n",
        ")\n",
        "hashtag_input=widgets.Text(\n",
        "    description=\"HashTag\",\n",
        "    layout=widgets.Layout(width='400px')\n",
        ")\n",
        "submit_button=widgets.Button(\n",
        "    description=\"Generate Tweet\",\n",
        "    button_style='Success',\n",
        "    tooltip='click to generate tweet',\n",
        "    layout=widgets.Layout(width='400px')\n",
        ")\n",
        "\n",
        "output=widgets.Output()"
      ],
      "metadata": {
        "id": "kOenKJmxKtKz"
      },
      "execution_count": null,
      "outputs": []
    },
    {
      "cell_type": "markdown",
      "source": [
        "Step 5: Generate Tweet Function"
      ],
      "metadata": {
        "id": "J4m4aGgSHIOm"
      }
    },
    {
      "cell_type": "code",
      "source": [
        "def generate_tweet(t):\n",
        "  output.clear_output()\n",
        "  prompt=f\"\"\"\n",
        "  You are an expert content Writer generate a tweet about this topic \"{topic_input.value}\".\n",
        "  Use a tone {Descr_input.value}.\n",
        "  Generate tweet for audience {audience_input.value}.\n",
        "  Include the hashtags {hashtag_input.value}.\n",
        "  Keep it humorous and under 280 characters.\n",
        "  \"\"\"\n",
        "  with output:\n",
        "    try:\n",
        "      response=model.generate_content(prompt)\n",
        "      tweet=response.text.strip()\n",
        "      display(Markdown(f\"### Generated Tweet: \\n\\n {tweet}\"))\n",
        "    except Exception as e:\n",
        "      print(\"Error Occured\",e)\n",
        "submit_button.on_click(generate_tweet)\n"
      ],
      "metadata": {
        "id": "OuyQb5vTN1dP"
      },
      "execution_count": null,
      "outputs": []
    },
    {
      "cell_type": "markdown",
      "source": [
        "Step 6: Display the form"
      ],
      "metadata": {
        "id": "pRaayOW-HSWY"
      }
    },
    {
      "cell_type": "code",
      "source": [
        "form = widgets.VBox([\n",
        "    widgets.HTML(value=\"<h3> Tweet Generator Agent</h3>\"),\n",
        "    topic_input,\n",
        "    Descr_input,\n",
        "    audience_input,\n",
        "    hashtag_input,\n",
        "    submit_button,\n",
        "    output\n",
        "])\n",
        "display(form)\n"
      ],
      "metadata": {
        "id": "kmCUchfnSpbL"
      },
      "execution_count": null,
      "outputs": []
    }
  ]
}